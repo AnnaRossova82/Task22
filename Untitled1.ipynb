{
 "cells": [
  {
   "cell_type": "code",
   "execution_count": 42,
   "id": "2db9174d",
   "metadata": {},
   "outputs": [
    {
     "name": "stdout",
     "output_type": "stream",
     "text": [
      "32\n",
      "Studens have at least one good mark: 32\n",
      "{'George', 'M2', 'p6', 'Alex', 'Ann', 'Peter', 'p7', 'p1', 'Mark', 'July', 'Amily', 'Stephan', 'c6', 'c1', 'p4', 'Kate', 'c3', 'Joseph', 'Mary', 'p5', 'M1', 'Jane', 'c5', 'Mike', 'c2', 'p3', 'p2', 'c4', 'c7', 'John', 'c8', 'M3'}\n",
      "32\n"
     ]
    }
   ],
   "source": [
    "#Згідно математичній формулі, має бути: 15math+16physics+19chemistry-(6physics_chemistry+9 math_chemistry+7 Math_physics)+4 All subjects = 32\n",
    "AtLeastOneGoodMark = 15+16+19-(6+9+7)+4\n",
    "print(AtLeastOneGoodMark)\n",
    "Math = {'John', 'Mike', 'July', 'Alex', 'Ann', 'Peter', 'Joseph', 'George', 'Amily', 'Jane', 'Mary', 'Stephan', 'M1', 'M2', 'M3'}\n",
    "Physics = {'John', 'Mike', 'July', 'Alex', 'Mark', 'Kate', 'Ann', 'Peter', 'Joseph', 'p1', 'p2', 'p3', 'p4', 'p5', 'p6', 'p7'}\n",
    "Chemistry = {'John', 'Mike', 'July', 'Alex', 'Mark', 'Kate', 'George', 'Amily', 'Jane', 'Mary', 'Stephan', 'c1', 'c2', 'c3', 'c4', 'c5', 'c6', 'c7', 'c8'}\n",
    "PhysicsChemistry={'John', 'Mike', 'July', 'Alex', 'Mark', 'Kate'}\n",
    "MathChemistry = {'John', 'Mike', 'July', 'Alex', 'George', 'Amily', 'Jane', 'Mary', 'Stephan'}\n",
    "MathPhysics = {'John', 'Mike', 'July', 'Alex', 'Ann', 'Peter', 'Joseph'}\n",
    "MathPhysicsChemistry = {'John', 'Mike', 'July', 'Alex'}\n",
    "\n",
    "#The best way - to use len of each set and calculate by formula:\n",
    "print(\"Studens have at least one good mark:\",(len(Math)+len(Physics)+len(Chemistry)-(len(PhysicsChemistry)+len(MathChemistry)+len(MathPhysics))+len(MathPhysicsChemistry)))\n",
    "\n",
    "#Add 'John', 'Mike', 'July', 'Alex' to all categories as they have success for all subjects\n",
    "#Name PhysicsChemistry two left students 'Mark', 'Kate', add them to Physics and to Chemistry also\n",
    "#Math Physics and accordingly solo math and physics - name 'Ann', 'Peter', 'Joseph'\n",
    "#MathChemistry name 'George', 'Amily', 'Jane', 'Mary', 'Stephan'\n",
    "#Left - name somehow differenf for each subject, lazy to remember more names...\n",
    "\n",
    "#Just to check if all is written fine - find total matching\n",
    "res = MathPhysicsChemistry&MathPhysics&MathChemistry&PhysicsChemistry&Chemistry&Physics&Math\n",
    "\n",
    "#Now update all sets, matching pairs will join and we get list of unique studends with names\n",
    "Math.update(Physics,Chemistry,PhysicsChemistry,MathChemistry,MathPhysics,MathPhysicsChemistry)\n",
    "print(Math)\n",
    "print(len(Math))\n",
    "\n",
    "#both variants get 32 students fortunately\n",
    "\n",
    "\n",
    "\n",
    "\n",
    "\n"
   ]
  },
  {
   "cell_type": "code",
   "execution_count": 49,
   "id": "b2e6d823",
   "metadata": {},
   "outputs": [
    {
     "name": "stdout",
     "output_type": "stream",
     "text": [
      "15\n",
      "Unlucky weather in Sept: 15\n",
      "{'r1', 'bzz7', 'bzz5', 'bzz4', 'bzz6', 'bzz3', 'r5', 'bzz8', 'r4', 'bzz2', 'w2', 'bzz1', 'r3', 'w1', 'r2'}\n",
      "15\n"
     ]
    }
   ],
   "source": [
    "#Згідно математичній формулі, має бути: 12rain+8wind+4cold-(2WindCold+5RainWind+3RainCold)+1RainWindCold = 15, тому гарної погоди буде 30 - 15 = 15 днів\n",
    "BadWeather = 12+8+4-(2+5+3)+1\n",
    "print(BadWeather)\n",
    "Rain = {'bzz1', 'bzz3', 'bzz4', 'bzz5', 'bzz6', 'bzz7', 'bzz8', 'r1', 'r2', 'r3', 'r4', 'r5'}\n",
    "Wind = {'bzz1', 'bzz2', 'bzz5', 'bzz6', 'bzz7', 'bzz8', 'w1', 'w2'}\n",
    "Cold = {'bzz1', 'bzz2', 'bzz3', 'bzz4'}\n",
    "RainWind = {'bzz1', 'bzz5', 'bzz6', 'bzz7', 'bzz8'}\n",
    "RainCold = {'bzz1', 'bzz3', 'bzz4'}\n",
    "WindCold = {'bzz1', 'bzz2'}\n",
    "RainWindCold = {'bzz1'}\n",
    "#Add days to list the same method as with students from task before\n",
    "print(\"Unlucky weather in Sept:\",(len(Rain)+len(Wind)+len(Cold)-(len(RainWind)+len(RainCold)+len(WindCold))+len(RainWindCold)))\n",
    "\n",
    "Rain.update(Wind, Cold, RainWind, RainCold, WindCold, RainWindCold)\n",
    "print(Rain)\n",
    "print(len(Rain))\n"
   ]
  },
  {
   "cell_type": "code",
   "execution_count": null,
   "id": "dbd8b28e",
   "metadata": {},
   "outputs": [],
   "source": []
  },
  {
   "cell_type": "code",
   "execution_count": null,
   "id": "2e04106d",
   "metadata": {},
   "outputs": [],
   "source": []
  },
  {
   "cell_type": "code",
   "execution_count": null,
   "id": "8efa8eb1",
   "metadata": {},
   "outputs": [],
   "source": []
  },
  {
   "cell_type": "code",
   "execution_count": null,
   "id": "052d1b16",
   "metadata": {},
   "outputs": [],
   "source": [
    "\n"
   ]
  },
  {
   "cell_type": "code",
   "execution_count": null,
   "id": "ab9e64d1",
   "metadata": {},
   "outputs": [],
   "source": []
  },
  {
   "cell_type": "code",
   "execution_count": null,
   "id": "966f3b2c",
   "metadata": {},
   "outputs": [],
   "source": []
  },
  {
   "cell_type": "code",
   "execution_count": null,
   "id": "bc02579c",
   "metadata": {},
   "outputs": [],
   "source": []
  }
 ],
 "metadata": {
  "kernelspec": {
   "display_name": "Python 3 (ipykernel)",
   "language": "python",
   "name": "python3"
  },
  "language_info": {
   "codemirror_mode": {
    "name": "ipython",
    "version": 3
   },
   "file_extension": ".py",
   "mimetype": "text/x-python",
   "name": "python",
   "nbconvert_exporter": "python",
   "pygments_lexer": "ipython3",
   "version": "3.9.13"
  }
 },
 "nbformat": 4,
 "nbformat_minor": 5
}
